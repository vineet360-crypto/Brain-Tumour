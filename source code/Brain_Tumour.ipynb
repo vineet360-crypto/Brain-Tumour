{
  "nbformat": 4,
  "nbformat_minor": 0,
  "metadata": {
    "colab": {
      "name": "Brain_Tumour.ipynb",
      "provenance": []
    },
    "kernelspec": {
      "display_name": "Python 3",
      "language": "python",
      "name": "python3"
    },
    "language_info": {
      "codemirror_mode": {
        "name": "ipython",
        "version": 3
      },
      "file_extension": ".py",
      "mimetype": "text/x-python",
      "name": "python",
      "nbconvert_exporter": "python",
      "pygments_lexer": "ipython3",
      "version": "3.8.5"
    }
  },
  "cells": [
    {
      "cell_type": "code",
      "metadata": {
        "id": "-2jBxJASF-7I"
      },
      "source": [
        "import os\n",
        "import keras \n",
        "from keras.models import Sequential\n",
        "from keras.layers import Conv2D, MaxPooling2D, Flatten, Dense, Dropout, BatchNormalization\n",
        "from PIL import Image\n",
        "import numpy as np\n",
        "import pandas as pd\n",
        "from sklearn.model_selection import train_test_split\n",
        "from sklearn.preprocessing import OneHotEncoder \n"
      ],
      "execution_count": null,
      "outputs": []
    },
    {
      "cell_type": "code",
      "metadata": {
        "id": "6R9HMN5pgHRo"
      },
      "source": [
        "import numpy as np \n",
        "import pandas as pd "
      ],
      "execution_count": null,
      "outputs": []
    },
    {
      "cell_type": "code",
      "metadata": {
        "colab": {
          "base_uri": "https://localhost:8080/"
        },
        "id": "7lKnlC9xGi9Y",
        "outputId": "a67a6c23-f244-42d6-dfa6-e4ebd6449409"
      },
      "source": [
        "from google.colab import drive\n",
        "drive.mount('/content/drive')"
      ],
      "execution_count": null,
      "outputs": [
        {
          "output_type": "stream",
          "text": [
            "Drive already mounted at /content/drive; to attempt to forcibly remount, call drive.mount(\"/content/drive\", force_remount=True).\n"
          ],
          "name": "stdout"
        }
      ]
    },
    {
      "cell_type": "code",
      "metadata": {
        "colab": {
          "base_uri": "https://localhost:8080/"
        },
        "id": "fGKb1dXGF-7I",
        "outputId": "94ee17ea-4a35-452d-b64e-27f6c8a44118"
      },
      "source": [
        "encoder = OneHotEncoder()\n",
        "encoder.fit([[0], [1]]) \n",
        "\n",
        "# 0 - Tumor\n",
        "# 1 - Normal"
      ],
      "execution_count": null,
      "outputs": [
        {
          "output_type": "execute_result",
          "data": {
            "text/plain": [
              "OneHotEncoder(categories='auto', drop=None, dtype=<class 'numpy.float64'>,\n",
              "              handle_unknown='error', sparse=True)"
            ]
          },
          "metadata": {
            "tags": []
          },
          "execution_count": 23
        }
      ]
    },
    {
      "cell_type": "code",
      "metadata": {
        "colab": {
          "base_uri": "https://localhost:8080/"
        },
        "id": "utgqd1w_F-7I",
        "outputId": "e2ae47f8-13d3-42ac-d02b-45711cf1ca59"
      },
      "source": [
        "data = []\n",
        "paths = []\n",
        "result = []\n",
        "\n",
        "for r, d, f in os.walk(r'/content/drive/MyDrive/brain tumour/yes'):\n",
        "    for file in f:\n",
        "        if '.jpg' in file:\n",
        "            paths.append(os.path.join(r, file))\n",
        "\n",
        "for path in paths:\n",
        "    img = Image.open(path)\n",
        "    img = img.resize((128,128))\n",
        "    img = np.array(img)\n",
        "    if(img.shape == (128,128,3)):\n",
        "        data.append(np.array(img))\n",
        "        result.append(encoder.transform([[0]]).toarray())\n",
        "result[0]        "
      ],
      "execution_count": null,
      "outputs": [
        {
          "output_type": "execute_result",
          "data": {
            "text/plain": [
              "array([[1., 0.]])"
            ]
          },
          "metadata": {
            "tags": []
          },
          "execution_count": 24
        }
      ]
    },
    {
      "cell_type": "code",
      "metadata": {
        "id": "0Mc7KHvCF-7I"
      },
      "source": [
        "paths = []\n",
        "for r, d, f in os.walk(r\"/content/drive/MyDrive/brain tumour/no\"):\n",
        "    for file in f:\n",
        "        if '.jpg' in file:\n",
        "            paths.append(os.path.join(r, file))\n",
        "\n",
        "for path in paths:\n",
        "    img = Image.open(path)\n",
        "    img = img.resize((128,128))\n",
        "    img = np.array(img)\n",
        "    if(img.shape == (128,128,3)):\n",
        "        data.append(np.array(img))\n",
        "        result.append(encoder.transform([[1]]).toarray())"
      ],
      "execution_count": null,
      "outputs": []
    },
    {
      "cell_type": "code",
      "metadata": {
        "colab": {
          "base_uri": "https://localhost:8080/"
        },
        "id": "YF2YePPuF-7I",
        "outputId": "e38a3e55-9270-496a-d039-eafd143dc714"
      },
      "source": [
        "data = np.array(data)\n",
        "data.shape"
      ],
      "execution_count": null,
      "outputs": [
        {
          "output_type": "execute_result",
          "data": {
            "text/plain": [
              "(134, 128, 128, 3)"
            ]
          },
          "metadata": {
            "tags": []
          },
          "execution_count": 26
        }
      ]
    },
    {
      "cell_type": "code",
      "metadata": {
        "colab": {
          "base_uri": "https://localhost:8080/"
        },
        "id": "jMHMlwQFF-7I",
        "outputId": "adf630e0-2c71-4e89-f32b-ad2049fe0032"
      },
      "source": [
        "result = np.array(result)\n",
        "result = result.reshape(134,2)\n",
        "result.shape"
      ],
      "execution_count": null,
      "outputs": [
        {
          "output_type": "execute_result",
          "data": {
            "text/plain": [
              "(134, 2)"
            ]
          },
          "metadata": {
            "tags": []
          },
          "execution_count": 27
        }
      ]
    },
    {
      "cell_type": "code",
      "metadata": {
        "id": "43-9HzF-F-7I"
      },
      "source": [
        "x_train, x_test, y_train, y_test = train_test_split(data, result, test_size=0.2, shuffle=True, random_state=0)"
      ],
      "execution_count": null,
      "outputs": []
    },
    {
      "cell_type": "code",
      "metadata": {
        "colab": {
          "base_uri": "https://localhost:8080/"
        },
        "id": "t4qkSVY3F-7I",
        "outputId": "1e020cd8-0e01-4d35-bad4-5b1bb2df0b35"
      },
      "source": [
        "model = Sequential()\n",
        "\n",
        "model.add(Conv2D(32, kernel_size=(2, 2), input_shape=(128, 128, 3), padding = 'Same'))\n",
        "model.add(Conv2D(32, kernel_size=(2, 2),  activation ='relu', padding = 'Same'))\n",
        "\n",
        "\n",
        "model.add(BatchNormalization())\n",
        "model.add(MaxPooling2D(pool_size=(2, 2)))\n",
        "model.add(Dropout(0.25))\n",
        "\n",
        "model.add(Conv2D(64, kernel_size = (2,2), activation ='relu', padding = 'Same'))\n",
        "model.add(Conv2D(64, kernel_size = (2,2), activation ='relu', padding = 'Same'))\n",
        "\n",
        "model.add(BatchNormalization())\n",
        "model.add(MaxPooling2D(pool_size=(2,2), strides=(2,2)))\n",
        "model.add(Dropout(0.25))\n",
        "\n",
        "model.add(Flatten())\n",
        "\n",
        "model.add(Dense(512, activation='relu'))\n",
        "model.add(Dropout(0.5))\n",
        "model.add(Dense(2, activation='softmax'))\n",
        "\n",
        "model.compile(loss = \"categorical_crossentropy\", optimizer='Adamax')\n",
        "print(model.summary())\n"
      ],
      "execution_count": null,
      "outputs": [
        {
          "output_type": "stream",
          "text": [
            "Model: \"sequential_1\"\n",
            "_________________________________________________________________\n",
            "Layer (type)                 Output Shape              Param #   \n",
            "=================================================================\n",
            "conv2d_4 (Conv2D)            (None, 128, 128, 32)      416       \n",
            "_________________________________________________________________\n",
            "conv2d_5 (Conv2D)            (None, 128, 128, 32)      4128      \n",
            "_________________________________________________________________\n",
            "batch_normalization_2 (Batch (None, 128, 128, 32)      128       \n",
            "_________________________________________________________________\n",
            "max_pooling2d_2 (MaxPooling2 (None, 64, 64, 32)        0         \n",
            "_________________________________________________________________\n",
            "dropout_3 (Dropout)          (None, 64, 64, 32)        0         \n",
            "_________________________________________________________________\n",
            "conv2d_6 (Conv2D)            (None, 64, 64, 64)        8256      \n",
            "_________________________________________________________________\n",
            "conv2d_7 (Conv2D)            (None, 64, 64, 64)        16448     \n",
            "_________________________________________________________________\n",
            "batch_normalization_3 (Batch (None, 64, 64, 64)        256       \n",
            "_________________________________________________________________\n",
            "max_pooling2d_3 (MaxPooling2 (None, 32, 32, 64)        0         \n",
            "_________________________________________________________________\n",
            "dropout_4 (Dropout)          (None, 32, 32, 64)        0         \n",
            "_________________________________________________________________\n",
            "flatten_1 (Flatten)          (None, 65536)             0         \n",
            "_________________________________________________________________\n",
            "dense_2 (Dense)              (None, 512)               33554944  \n",
            "_________________________________________________________________\n",
            "dropout_5 (Dropout)          (None, 512)               0         \n",
            "_________________________________________________________________\n",
            "dense_3 (Dense)              (None, 2)                 1026      \n",
            "=================================================================\n",
            "Total params: 33,585,602\n",
            "Trainable params: 33,585,410\n",
            "Non-trainable params: 192\n",
            "_________________________________________________________________\n",
            "None\n"
          ],
          "name": "stdout"
        }
      ]
    },
    {
      "cell_type": "code",
      "metadata": {
        "colab": {
          "base_uri": "https://localhost:8080/"
        },
        "id": "X0SBalBZF-7I",
        "outputId": "a3949231-a36a-40f4-b24e-f03c335713f5"
      },
      "source": [
        "x_train.shape"
      ],
      "execution_count": null,
      "outputs": [
        {
          "output_type": "execute_result",
          "data": {
            "text/plain": [
              "(107, 128, 128, 3)"
            ]
          },
          "metadata": {
            "tags": []
          },
          "execution_count": 30
        }
      ]
    },
    {
      "cell_type": "code",
      "metadata": {
        "colab": {
          "base_uri": "https://localhost:8080/"
        },
        "id": "hkmpxtIBF-7I",
        "outputId": "87dfdbe7-6149-4d31-eb00-eb37e0362d69"
      },
      "source": [
        "y_train.shape"
      ],
      "execution_count": null,
      "outputs": [
        {
          "output_type": "execute_result",
          "data": {
            "text/plain": [
              "(107, 2)"
            ]
          },
          "metadata": {
            "tags": []
          },
          "execution_count": 31
        }
      ]
    },
    {
      "cell_type": "code",
      "metadata": {
        "colab": {
          "base_uri": "https://localhost:8080/"
        },
        "id": "2bslAfHuF-7I",
        "outputId": "2880b2ab-aeef-4b0c-ab39-517f3fb3d61a"
      },
      "source": [
        "history = model.fit(x_train, y_train,\n",
        "                   epochs = 40,\n",
        "                   batch_size = 128,\n",
        "                   verbose = 1,\n",
        "                   validation_data = (x_test, y_test))"
      ],
      "execution_count": null,
      "outputs": [
        {
          "output_type": "stream",
          "text": [
            "Epoch 1/40\n",
            "1/1 [==============================] - 6s 6s/step - loss: 1.7535 - val_loss: 31.8687\n",
            "Epoch 2/40\n",
            "1/1 [==============================] - 4s 4s/step - loss: 15.4578 - val_loss: 238.6991\n",
            "Epoch 3/40\n",
            "1/1 [==============================] - 4s 4s/step - loss: 40.9446 - val_loss: 13.4921\n",
            "Epoch 4/40\n",
            "1/1 [==============================] - 4s 4s/step - loss: 2.1918 - val_loss: 124.9573\n",
            "Epoch 5/40\n",
            "1/1 [==============================] - 4s 4s/step - loss: 9.6817 - val_loss: 112.5109\n",
            "Epoch 6/40\n",
            "1/1 [==============================] - 4s 4s/step - loss: 7.5810 - val_loss: 75.1781\n",
            "Epoch 7/40\n",
            "1/1 [==============================] - 4s 4s/step - loss: 1.8906 - val_loss: 35.3740\n",
            "Epoch 8/40\n",
            "1/1 [==============================] - 4s 4s/step - loss: 0.5492 - val_loss: 12.8547\n",
            "Epoch 9/40\n",
            "1/1 [==============================] - 4s 4s/step - loss: 2.6420 - val_loss: 7.4498\n",
            "Epoch 10/40\n",
            "1/1 [==============================] - 4s 4s/step - loss: 2.5092 - val_loss: 7.8772\n",
            "Epoch 11/40\n",
            "1/1 [==============================] - 4s 4s/step - loss: 0.9238 - val_loss: 10.6124\n",
            "Epoch 12/40\n",
            "1/1 [==============================] - 4s 4s/step - loss: 0.7454 - val_loss: 15.9542\n",
            "Epoch 13/40\n",
            "1/1 [==============================] - 4s 4s/step - loss: 0.5848 - val_loss: 19.8685\n",
            "Epoch 14/40\n",
            "1/1 [==============================] - 4s 4s/step - loss: 0.1067 - val_loss: 22.2292\n",
            "Epoch 15/40\n",
            "1/1 [==============================] - 4s 4s/step - loss: 0.0385 - val_loss: 24.1462\n",
            "Epoch 16/40\n",
            "1/1 [==============================] - 4s 4s/step - loss: 0.2739 - val_loss: 25.1372\n",
            "Epoch 17/40\n",
            "1/1 [==============================] - 4s 4s/step - loss: 0.6428 - val_loss: 24.8645\n",
            "Epoch 18/40\n",
            "1/1 [==============================] - 4s 4s/step - loss: 0.2701 - val_loss: 24.1693\n",
            "Epoch 19/40\n",
            "1/1 [==============================] - 4s 4s/step - loss: 0.2477 - val_loss: 23.1388\n",
            "Epoch 20/40\n",
            "1/1 [==============================] - 4s 4s/step - loss: 0.3919 - val_loss: 21.4800\n",
            "Epoch 21/40\n",
            "1/1 [==============================] - 4s 4s/step - loss: 3.6120e-05 - val_loss: 20.0111\n",
            "Epoch 22/40\n",
            "1/1 [==============================] - 4s 4s/step - loss: 0.0013 - val_loss: 18.6584\n",
            "Epoch 23/40\n",
            "1/1 [==============================] - 4s 4s/step - loss: 0.0031 - val_loss: 17.3873\n",
            "Epoch 24/40\n",
            "1/1 [==============================] - 4s 4s/step - loss: 0.0895 - val_loss: 16.1121\n",
            "Epoch 25/40\n",
            "1/1 [==============================] - 4s 4s/step - loss: 4.3582e-04 - val_loss: 15.0717\n",
            "Epoch 26/40\n",
            "1/1 [==============================] - 4s 4s/step - loss: 0.0506 - val_loss: 14.0501\n",
            "Epoch 27/40\n",
            "1/1 [==============================] - 4s 4s/step - loss: 0.0036 - val_loss: 13.1792\n",
            "Epoch 28/40\n",
            "1/1 [==============================] - 4s 4s/step - loss: 0.0638 - val_loss: 11.8879\n",
            "Epoch 29/40\n",
            "1/1 [==============================] - 4s 4s/step - loss: 3.1728e-05 - val_loss: 10.7642\n",
            "Epoch 30/40\n",
            "1/1 [==============================] - 4s 4s/step - loss: 8.6215e-05 - val_loss: 9.8201\n",
            "Epoch 31/40\n",
            "1/1 [==============================] - 4s 4s/step - loss: 5.5927e-07 - val_loss: 9.0441\n",
            "Epoch 32/40\n",
            "1/1 [==============================] - 4s 4s/step - loss: 1.4293e-06 - val_loss: 8.3941\n",
            "Epoch 33/40\n",
            "1/1 [==============================] - 4s 4s/step - loss: 5.2779e-06 - val_loss: 7.8307\n",
            "Epoch 34/40\n",
            "1/1 [==============================] - 4s 4s/step - loss: 0.1045 - val_loss: 7.4066\n",
            "Epoch 35/40\n",
            "1/1 [==============================] - 4s 4s/step - loss: 2.0662e-05 - val_loss: 7.0471\n",
            "Epoch 36/40\n",
            "1/1 [==============================] - 4s 4s/step - loss: 2.7184e-07 - val_loss: 6.7359\n",
            "Epoch 37/40\n",
            "1/1 [==============================] - 4s 4s/step - loss: 2.6095e-04 - val_loss: 6.4697\n",
            "Epoch 38/40\n",
            "1/1 [==============================] - 4s 4s/step - loss: 0.1587 - val_loss: 6.4165\n",
            "Epoch 39/40\n",
            "1/1 [==============================] - 4s 4s/step - loss: 3.2293e-06 - val_loss: 6.3629\n",
            "Epoch 40/40\n",
            "1/1 [==============================] - 4s 4s/step - loss: 7.5941e-06 - val_loss: 6.3103\n"
          ],
          "name": "stdout"
        }
      ]
    },
    {
      "cell_type": "code",
      "metadata": {
        "id": "UaHMIcmaF-7I"
      },
      "source": [
        " def names(number):\n",
        "    if number==0:\n",
        "        return 'Its a Tumor'\n",
        "    else:\n",
        "        return 'No, Its not a tumor'"
      ],
      "execution_count": null,
      "outputs": []
    },
    {
      "cell_type": "code",
      "metadata": {
        "colab": {
          "base_uri": "https://localhost:8080/",
          "height": 286
        },
        "id": "ihXwmyxxF-7I",
        "outputId": "f7f8f450-7d47-47f6-bcc9-2deb1035c46a"
      },
      "source": [
        "from matplotlib.pyplot import imshow\n",
        "img = Image.open(r\"/content/drive/MyDrive/brain tumour/yes/Y20.jpg\")\n",
        "x = np.array(img.resize((128,128)))\n",
        "x = x.reshape(1,128,128,3)\n",
        "res = model.predict_on_batch(x)\n",
        "classification = np.where(res == np.amax(res))[1][0]\n",
        "imshow(img)\n",
        "print(str(res[0][classification]*100) + '% Confidence This Is ' + names(classification))"
      ],
      "execution_count": null,
      "outputs": [
        {
          "output_type": "stream",
          "text": [
            "100.0% Confidence This Is Its a Tumor\n"
          ],
          "name": "stdout"
        },
        {
          "output_type": "display_data",
          "data": {
            "image/png": "[encoded data removed]",
            "text/plain": [
              "<Figure size 432x288 with 1 Axes>"
            ]
          },
          "metadata": {
            "tags": [],
            "needs_background": "light"
          }
        }
      ]
    },
    {
      "cell_type": "code",
      "metadata": {
        "id": "zNTopJmzF-7I",
        "colab": {
          "base_uri": "https://localhost:8080/",
          "height": 358
        },
        "outputId": "66002da5-a4bf-463c-e4a1-3582f76d5db8"
      },
      "source": [
        "img = Image.open(r\"/content/drive/MyDrive/brain tumour/no/98 no.jpg\")\n",
        "x = np.array(img.resize((128,128)))\n",
        "x = x.reshape(1,128,128,3)\n",
        "res = model.predict_on_batch(x)\n",
        "classification = np.where(res == np.amax(res))[1][0]\n",
        "imshow(img)\n",
        "print(str(res[0][classification]*100) + '% Confidence This Is ' + names(classification))"
      ],
      "execution_count": null,
      "outputs": [
        {
          "output_type": "error",
          "ename": "FileNotFoundError",
          "evalue": "ignored",
          "traceback": [
            "\u001b[0;31m---------------------------------------------------------------------------\u001b[0m",
            "\u001b[0;31mFileNotFoundError\u001b[0m                         Traceback (most recent call last)",
            "\u001b[0;32m<ipython-input-42-edd4fd0ddf9f>\u001b[0m in \u001b[0;36m<module>\u001b[0;34m()\u001b[0m\n\u001b[0;32m----> 1\u001b[0;31m \u001b[0mimg\u001b[0m \u001b[0;34m=\u001b[0m \u001b[0mImage\u001b[0m\u001b[0;34m.\u001b[0m\u001b[0mopen\u001b[0m\u001b[0;34m(\u001b[0m\u001b[0;34mr\"/content/drive/MyDrive/brain tumour/no/98 no.jpg\"\u001b[0m\u001b[0;34m)\u001b[0m\u001b[0;34m\u001b[0m\u001b[0;34m\u001b[0m\u001b[0m\n\u001b[0m\u001b[1;32m      2\u001b[0m \u001b[0mx\u001b[0m \u001b[0;34m=\u001b[0m \u001b[0mnp\u001b[0m\u001b[0;34m.\u001b[0m\u001b[0marray\u001b[0m\u001b[0;34m(\u001b[0m\u001b[0mimg\u001b[0m\u001b[0;34m.\u001b[0m\u001b[0mresize\u001b[0m\u001b[0;34m(\u001b[0m\u001b[0;34m(\u001b[0m\u001b[0;36m128\u001b[0m\u001b[0;34m,\u001b[0m\u001b[0;36m128\u001b[0m\u001b[0;34m)\u001b[0m\u001b[0;34m)\u001b[0m\u001b[0;34m)\u001b[0m\u001b[0;34m\u001b[0m\u001b[0;34m\u001b[0m\u001b[0m\n\u001b[1;32m      3\u001b[0m \u001b[0mx\u001b[0m \u001b[0;34m=\u001b[0m \u001b[0mx\u001b[0m\u001b[0;34m.\u001b[0m\u001b[0mreshape\u001b[0m\u001b[0;34m(\u001b[0m\u001b[0;36m1\u001b[0m\u001b[0;34m,\u001b[0m\u001b[0;36m128\u001b[0m\u001b[0;34m,\u001b[0m\u001b[0;36m128\u001b[0m\u001b[0;34m,\u001b[0m\u001b[0;36m3\u001b[0m\u001b[0;34m)\u001b[0m\u001b[0;34m\u001b[0m\u001b[0;34m\u001b[0m\u001b[0m\n\u001b[1;32m      4\u001b[0m \u001b[0mres\u001b[0m \u001b[0;34m=\u001b[0m \u001b[0mmodel\u001b[0m\u001b[0;34m.\u001b[0m\u001b[0mpredict_on_batch\u001b[0m\u001b[0;34m(\u001b[0m\u001b[0mx\u001b[0m\u001b[0;34m)\u001b[0m\u001b[0;34m\u001b[0m\u001b[0;34m\u001b[0m\u001b[0m\n\u001b[1;32m      5\u001b[0m \u001b[0mclassification\u001b[0m \u001b[0;34m=\u001b[0m \u001b[0mnp\u001b[0m\u001b[0;34m.\u001b[0m\u001b[0mwhere\u001b[0m\u001b[0;34m(\u001b[0m\u001b[0mres\u001b[0m \u001b[0;34m==\u001b[0m \u001b[0mnp\u001b[0m\u001b[0;34m.\u001b[0m\u001b[0mamax\u001b[0m\u001b[0;34m(\u001b[0m\u001b[0mres\u001b[0m\u001b[0;34m)\u001b[0m\u001b[0;34m)\u001b[0m\u001b[0;34m[\u001b[0m\u001b[0;36m1\u001b[0m\u001b[0;34m]\u001b[0m\u001b[0;34m[\u001b[0m\u001b[0;36m0\u001b[0m\u001b[0;34m]\u001b[0m\u001b[0;34m\u001b[0m\u001b[0;34m\u001b[0m\u001b[0m\n",
            "\u001b[0;32m/usr/local/lib/python3.7/dist-packages/PIL/Image.py\u001b[0m in \u001b[0;36mopen\u001b[0;34m(fp, mode)\u001b[0m\n\u001b[1;32m   2841\u001b[0m \u001b[0;34m\u001b[0m\u001b[0m\n\u001b[1;32m   2842\u001b[0m     \u001b[0;32mif\u001b[0m \u001b[0mfilename\u001b[0m\u001b[0;34m:\u001b[0m\u001b[0;34m\u001b[0m\u001b[0;34m\u001b[0m\u001b[0m\n\u001b[0;32m-> 2843\u001b[0;31m         \u001b[0mfp\u001b[0m \u001b[0;34m=\u001b[0m \u001b[0mbuiltins\u001b[0m\u001b[0;34m.\u001b[0m\u001b[0mopen\u001b[0m\u001b[0;34m(\u001b[0m\u001b[0mfilename\u001b[0m\u001b[0;34m,\u001b[0m \u001b[0;34m\"rb\"\u001b[0m\u001b[0;34m)\u001b[0m\u001b[0;34m\u001b[0m\u001b[0;34m\u001b[0m\u001b[0m\n\u001b[0m\u001b[1;32m   2844\u001b[0m         \u001b[0mexclusive_fp\u001b[0m \u001b[0;34m=\u001b[0m \u001b[0;32mTrue\u001b[0m\u001b[0;34m\u001b[0m\u001b[0;34m\u001b[0m\u001b[0m\n\u001b[1;32m   2845\u001b[0m \u001b[0;34m\u001b[0m\u001b[0m\n",
            "\u001b[0;31mFileNotFoundError\u001b[0m: [Errno 2] No such file or directory: '/content/drive/MyDrive/brain tumour/no/98 no.jpg'"
          ]
        }
      ]
    },
    {
      "cell_type": "code",
      "metadata": {
        "id": "N8b7uoWYlFds"
      },
      "source": [
        ""
      ],
      "execution_count": null,
      "outputs": []
    }
  ]
}